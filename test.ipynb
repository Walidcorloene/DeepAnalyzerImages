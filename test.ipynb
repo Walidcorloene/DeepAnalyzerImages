{
 "cells": [
  {
   "cell_type": "code",
   "execution_count": 6,
   "id": "7621dab1",
   "metadata": {},
   "outputs": [],
   "source": [
    "# import web driver\n",
    "from selenium import webdriver\n",
    "from selenium.webdriver.common.by import By\n",
    "from selenium.webdriver.common.keys import Keys\n",
    "from parsel import Selector\n",
    "import requests\n",
    "import re\n",
    "import urllib.request\n",
    "from selenium import webdriver\n",
    "import time\n",
    "import os\n",
    "from dotenv import load_dotenv"
   ]
  },
  {
   "cell_type": "code",
   "execution_count": 10,
   "id": "fdd6c241",
   "metadata": {
    "scrolled": true
   },
   "outputs": [
    {
     "name": "stderr",
     "output_type": "stream",
     "text": [
      "C:\\Users\\WalidCorleone\\AppData\\Local\\Temp\\ipykernel_27372\\296956583.py:2: DeprecationWarning: executable_path has been deprecated, please pass in a Service object\n",
      "  driver = webdriver.Chrome(\"./chromedriver.exe\")\n"
     ]
    }
   ],
   "source": [
    "# specifies the path to the chromedriver.exe\n",
    "driver = webdriver.Chrome(\"./chromedriver.exe\")\n",
    "## Load .env file\n",
    "load_dotenv(verbose=True)\n",
    "\n",
    "driver.maximize_window()\n",
    "# driver.get method() will navigate to a page given by the URL address\n",
    "driver.get('https://www.linkedin.com')\n",
    "\n",
    "# locate email form by_class_name\n",
    "username = driver.find_element(By.ID,'session_key')\n",
    "\n",
    "\n",
    "# send_keys() to simulate key strokes\n",
    "username.send_keys(os.getenv(\"LINKEDIN_USERNAME\"))\n",
    "\n",
    "# sleep for 0.5 seconds\n",
    "time.sleep(0.5)\n",
    "\n",
    "# locate password form by_class_name\n",
    "password = driver.find_element(By.ID,'session_password')\n",
    "\n",
    "# send_keys() to simulate key strokes\n",
    "password.send_keys(os.getenv(\"LINKEDIN_PASSWORD\"))\n",
    "\n",
    "time.sleep(0.5)\n",
    "\n",
    "# locate submit button by_xpath\n",
    "sign_in_button = driver.find_element(By.XPATH,'//*[@type=\"submit\"]')\n",
    "\n",
    "# .click() to mimic button click\n",
    "sign_in_button.click()\n",
    "\n",
    "time.sleep(0.5)"
   ]
  },
  {
   "cell_type": "markdown",
   "id": "155d62c0",
   "metadata": {
    "scrolled": true
   },
   "source": [
    "\n",
    "#  Searching linkedin profile in google and get link of each profile"
   ]
  },
  {
   "cell_type": "code",
   "execution_count": null,
   "id": "ec2a7a95",
   "metadata": {
    "scrolled": true
   },
   "outputs": [],
   "source": [
    "\n",
    "driver.get('https:www.google.com')\n",
    "time.sleep(3)\n",
    "\n",
    "accept = driver.find_element(By.ID, 'L2AGLb')\n",
    "accept.click()\n",
    "\n",
    "time.sleep(1)\n",
    "\n",
    "search_query = driver.find_element(By.NAME, 'q')\n",
    "search_query.send_keys('site:linkedin.com/in/ OR site:linkedin.com/pub/ -intitle:profiles -inurl:\"/dir\"')\n",
    "time.sleep(0.5)\n",
    "\n",
    "search_query.send_keys(Keys.RETURN)\n",
    "time.sleep(3)"
   ]
  },
  {
   "cell_type": "code",
   "execution_count": null,
   "id": "eec94149",
   "metadata": {
    "scrolled": true
   },
   "outputs": [],
   "source": [
    "\n",
    "linkedin = []\n",
    "for _ in range(50):\n",
    "    linkedin_urls = driver.find_elements(By.CLASS_NAME, 'yuRUbf')\n",
    "    for url in linkedin_urls:\n",
    "        a = url.find_element(By.TAG_NAME, 'a').get_attribute('href')\n",
    "        linkedin.append(a)\n",
    "    time.sleep(0.5)\n",
    "    nextt = driver.find_element(By.ID, 'pnnext')\n",
    "    nextt.click()\n",
    "\n",
    "print(linkedin)\n",
    "print(len(linkedin))\n",
    "print(linkedin[0])\n",
    "time.sleep(0.5)"
   ]
  },
  {
   "cell_type": "code",
   "execution_count": null,
   "id": "84560fca",
   "metadata": {},
   "outputs": [],
   "source": [
    "linkedin= ['https://pl.linkedin.com/in/patrycjaw', 'https://www.linkedin.com/in/kanishkarao', 'https://www.linkedin.com/in/ricardobaezayates', 'https://it.linkedin.com/in/bernardobertoldi', 'https://www.linkedin.com/in/neilkane', 'https://www.linkedin.com/in/bencasselman', 'https://www.linkedin.com/in/ryakkali', 'https://www.linkedin.com/in/rossrubin', 'https://www.linkedin.com/in/davemerkel', 'https://www.linkedin.com/in/sahilsagar', 'https://www.linkedin.com/in/barneypell', 'https://www.linkedin.com/in/juliafgsmith', 'https://www.linkedin.com/in/mindydrummond', 'https://ca.linkedin.com/in/zmacleod', 'https://www.linkedin.com/in/larrymarcus', 'https://www.linkedin.com/in/yihuang', 'https://www.linkedin.com/in/michaeldellapenna', 'https://www.linkedin.com/in/mattocko', 'https://pe.linkedin.com/in/mariochipoco', 'https://www.linkedin.com/in/dawnblender', 'https://uk.linkedin.com/in/feliciajackson', 'https://mx.linkedin.com/in/silis', 'https://www.linkedin.com/in/hatch', 'https://lt.linkedin.com/in/sarunask', 'https://www.linkedin.com/in/kkovalycsik', 'https://www.linkedin.com/in/robnail', 'https://es.linkedin.com/in/rafaelmgil', 'https://www.linkedin.com/in/gabemg', 'https://ch.linkedin.com/in/nadinereichenthal', 'https://co.linkedin.com/in/magonzalez', 'https://in.linkedin.com/in/pushkarajkale', 'https://www.linkedin.com/in/clevelandjustis', 'https://fr.linkedin.com/in/michelsafars', 'https://sg.linkedin.com/in/joannegoh', 'https://www.linkedin.com/in/evanlesser', 'https://www.linkedin.com/in/mauricebakley', 'https://www.linkedin.com/in/tinachang1', 'https://uk.linkedin.com/in/adamswallow', 'https://cl.linkedin.com/in/awoywood', 'https://www.linkedin.com/in/rachelhommel', 'https://au.linkedin.com/in/danbognar', 'https://www.linkedin.com/in/sabrinadeltoro', 'https://no.linkedin.com/in/rasmusgb', 'https://www.linkedin.com/in/michaelfrendo', 'https://www.linkedin.com/in/wendylea', 'https://www.linkedin.com/in/teresawessel', 'https://www.linkedin.com/in/chrisn', 'https://www.linkedin.com/in/stevelodin', 'https://www.linkedin.com/in/herringmark', 'https://www.linkedin.com/in/brettrtobin', 'https://it.linkedin.com/in/andreagaiardo', 'https://www.linkedin.com/in/drootenberg', 'https://www.linkedin.com/in/caitlinthomps', 'https://www.linkedin.com/in/elizapesuit', 'https://www.linkedin.com/in/urbantech', 'https://www.linkedin.com/in/laurawildman', 'https://uk.linkedin.com/in/rudolfsinkovics', 'https://pk.linkedin.com/in/kzafar', 'https://www.linkedin.com/in/aimeecho1', 'https://www.linkedin.com/in/nadeem2809', 'https://www.linkedin.com/in/nickdg', 'https://www.linkedin.com/in/genewade', 'https://in.linkedin.com/in/advisordang', 'https://www.linkedin.com/in/franklholland', 'https://www.linkedin.com/in/sandyk', 'https://www.linkedin.com/in/runfangzhou', 'https://www.linkedin.com/in/dwaynecash', 'https://www.linkedin.com/in/birgitcoleman', 'https://ie.linkedin.com/in/martinmccormack', 'https://ca.linkedin.com/in/traceyweiler', 'https://www.linkedin.com/in/zeevvax', 'https://www.linkedin.com/in/clairez1', 'https://www.linkedin.com/in/ldrakeii', 'https://in.linkedin.com/in/nehakpuri', 'https://pk.linkedin.com/in/naveenahmedcfa', 'https://www.linkedin.com/in/swiston', 'https://www.linkedin.com/in/dmitryda', 'https://www.linkedin.com/in/ashutoshjhaveri', 'https://ca.linkedin.com/in/angiedosanjh', 'https://ca.linkedin.com/in/jaimiemintenko', 'https://www.linkedin.com/in/johnmgrillos', 'https://www.linkedin.com/in/mauriafinley', 'https://www.linkedin.com/in/huancle', 'https://es.linkedin.com/in/erikbrieva', 'https://ch.linkedin.com/in/marcbgruber', 'https://www.linkedin.com/in/brentritz', 'https://www.linkedin.com/in/johnscooper', 'https://it.linkedin.com/in/danilopietropau', 'https://www.linkedin.com/in/victorsohmen', 'https://lu.linkedin.com/in/acrystalgardner', 'https://www.linkedin.com/in/elonazoulay', 'https://www.linkedin.com/in/luther', 'https://www.linkedin.com/in/enisdogan', 'https://www.linkedin.com/in/tefung', 'https://ch.linkedin.com/in/lukasdanmeier', 'https://www.linkedin.com/in/georgetchuang', 'https://www.linkedin.com/in/tedcasey', 'https://www.linkedin.com/in/richhoff', 'https://www.linkedin.com/in/therealdavidmartin', 'https://www.linkedin.com/in/juliaabelsky']\n",
    "len(linkedin)"
   ]
  },
  {
   "cell_type": "code",
   "execution_count": null,
   "id": "67bfd964",
   "metadata": {},
   "outputs": [],
   "source": [
    "for i in range(len(linkedin)):\n",
    "    for linkedin_url in linkedin:\n",
    "           # get the profile URL\n",
    "            driver.get(linkedin_url)\n",
    "            picture_url = driver.find_elements(By.CLASS_NAME, 'pv-top-card__non-self-photo-wrapper.ml0')\n",
    "            for url in picture_url:\n",
    "                a = url.find_element(By.TAG_NAME, 'img').get_attribute('src')\n",
    "                # # download the image\n",
    "                try:\n",
    "                    i+=1\n",
    "                    urllib.request.urlretrieve(a, \"images/AdNonad\"+str(i)+\".png\")\n",
    "                    # add a 5 second pause loading each URL\n",
    "                    time.sleep(2)\n",
    "                except AssertionError:\n",
    "                    print(\"No picture to download\")\n",
    "                \n",
    "   # assigning the source code for the webpage to variable sel\n",
    "print(type(sel))\n",
    "time.sleep(0.5)\n",
    "print(type(sel))"
   ]
  },
  {
   "cell_type": "markdown",
   "id": "a144b265",
   "metadata": {},
   "source": [
    "# Getting profile in Mynetwork in linkedin"
   ]
  },
  {
   "cell_type": "code",
   "execution_count": null,
   "id": "7d9bcc3e",
   "metadata": {},
   "outputs": [],
   "source": [
    "# get source code of my networks profiles and scroll 30 times \n",
    "def networkSource(link):\n",
    "    driver.get(link)\n",
    "    time.sleep(3)\n",
    "    for _ in range(5):\n",
    "        driver.execute_script(\"window.scrollTo(0, document.body.scrollHeight);\")\n",
    "        time.sleep(1.5)\n",
    "        sel = Selector(text=driver.page_source)\n",
    "    return sel\n",
    "print(sel)"
   ]
  },
  {
   "cell_type": "code",
   "execution_count": null,
   "id": "3a470059",
   "metadata": {},
   "outputs": [],
   "source": [
    "# get Href of each linkeidn profile in source code\n",
    "def LinkedinHref(sel=networkSource('https://www.linkedin.com/mynetwork/')):\n",
    "     linkedin=[]\n",
    "     path='https://www.linkedin.com'\n",
    "     linkedin_href=[a.attrib['href'] for a in sel.css('a')]\n",
    "     for link in linkedin_href:\n",
    "        truelink= re.findall(\"(\\/in\\/[A-z0-9_%-]{5,})+\\/?\",link)\n",
    "        linkedin.append(truelink)\n",
    "        linkedin_urls = set([path+item for x in linkedin for item in x])\n",
    "     return linkedin_urls"
   ]
  },
  {
   "cell_type": "code",
   "execution_count": null,
   "id": "5e8b36d6",
   "metadata": {
    "scrolled": true
   },
   "outputs": [],
   "source": [
    "for i in LinkedinHref():\n",
    "    print(i)\n",
    "print(len(LinkedinHref()))\n",
    "print(len(set(LinkedinHref())))\n"
   ]
  },
  {
   "cell_type": "code",
   "execution_count": null,
   "id": "25fc570f",
   "metadata": {
    "scrolled": true
   },
   "outputs": [],
   "source": [
    "def GetNameFromUrl():\n",
    "    nom_prenom=[]\n",
    "    for i in LinkedinHref():\n",
    "       name=re.findall(\"((\\/in\\/[a-zA-Z0-9À-ž_.-])\",i)\n",
    "       nom_prenom.append(name)\n",
    "       nom=[item for x in nom_prenom for item in x]\n",
    "    return nom\n",
    "\n",
    "for n in GetNameFromUrl():\n",
    "    print(n)\n",
    "len(nom_prenom)    \n"
   ]
  },
  {
   "cell_type": "code",
   "execution_count": null,
   "id": "928fd31d",
   "metadata": {},
   "outputs": [],
   "source": [
    "\n",
    "namelinkedin=re.findall(\"(\\/in\\/([a-zA-Z0-9À-ž_.-]{10}+))\",)"
   ]
  },
  {
   "cell_type": "code",
   "execution_count": null,
   "id": "f98faf4e",
   "metadata": {},
   "outputs": [],
   "source": [
    "#getting link of profiles\n",
    "# from lxml import etree\n",
    "# tree = etree.HTML(sel)\n",
    "# r = tree.xpath(\"//div[@class='discover-entity-type-card__info-container']/a\")\n",
    "# print(r[0].attrib['href'])\n",
    "# all_persons= sel.xpath(\"//div[@class='discover-entity-type-card__info-container']/a/@href\")\n",
    "# allp = sel.css('a').xpath('@href').getall()\n",
    "# print(allp)"
   ]
  },
  {
   "cell_type": "code",
   "execution_count": null,
   "id": "23ad9faf",
   "metadata": {
    "scrolled": true
   },
   "outputs": [],
   "source": [
    "\n",
    "for linkedin_url in linkedin_urls:\n",
    "       # get the profile URL\n",
    "        driver.get(linkedin_url)\n",
    "        picture_url = driver.find_elements(By.CLASS_NAME, 'pv-top-card__non-self-photo-wrapper.ml0')\n",
    "        for url in picture_url:\n",
    "            a = url.find_element(By.TAG_NAME, 'img').get_attribute('src')\n",
    "            text = driver.find_element_by_class_name(\"text-heading-xlarge.inline.t-24.v-align-middle.break-words\").text\n",
    "            # # download the image\n",
    "            try:\n",
    "                i+=1\n",
    "                urllib.request.urlretrieve(a, text\".png\")\n",
    "                # add a 5 second pause loading each URL\n",
    "                time.sleep(2)\n",
    "            except AssertionError:\n",
    "                print(\"No picture to download\")\n",
    "\n",
    "   # assigning the source code for the webpage to variable sel\n",
    "print(type(sel))"
   ]
  },
  {
   "cell_type": "code",
   "execution_count": null,
   "id": "5101f429",
   "metadata": {},
   "outputs": [],
   "source": [
    "all_images = sel_profile.xpath('//div/button/img').extract()\n",
    "print(all_images)"
   ]
  },
  {
   "cell_type": "code",
   "execution_count": null,
   "id": "2d3ad20b",
   "metadata": {},
   "outputs": [],
   "source": [
    "# Get src of each images\n",
    "[img.attrib['src'] for img in sel_profile.css('img')]"
   ]
  },
  {
   "cell_type": "code",
   "execution_count": null,
   "id": "45bb60ba",
   "metadata": {},
   "outputs": [],
   "source": [
    "for img in linkedin_urls:\n",
    "    # We can split the file based upon / and extract the last split within the python list below:\n",
    "    a = img.find_element(By.TAG_NAME, 'img').get_attribute('src')\n",
    "    file_name = a.split('/')[-1]\n",
    "    print(f\"This is the file name: {file_name}\")\n",
    "    # Now let's send a request to the image URL:\n",
    "    r = requests.get(a, stream=True)\n",
    "    # We can check that the status code is 200 before doing anything else:\n",
    "    if r.status_code == 200:\n",
    "        # This command below will allow us to write the data to a file as binary:\n",
    "        with open(file_name, 'wb') as f:\n",
    "            for chunk in r:\n",
    "                f.write(chunk)\n",
    "    else:\n",
    "        # We will write all of the images back to the broken_images list:\n",
    "        broken_images.append(a)"
   ]
  },
  {
   "cell_type": "code",
   "execution_count": null,
   "id": "17d1c1c2",
   "metadata": {},
   "outputs": [],
   "source": [
    "all_images = networkSource('https://www.linkedin.com/in/walid-khirdine/').xpath('//div/h1').extract()\n"
   ]
  },
  {
   "cell_type": "code",
   "execution_count": null,
   "id": "4a4866a1",
   "metadata": {},
   "outputs": [],
   "source": [
    "text = driver.find_element_by_class_name(\"text-heading-xlarge.inline.t-24.v-align-middle.break-words\").text"
   ]
  },
  {
   "cell_type": "code",
   "execution_count": null,
   "id": "ec07533d",
   "metadata": {},
   "outputs": [],
   "source": [
    "print(text)"
   ]
  },
  {
   "cell_type": "code",
   "execution_count": 11,
   "id": "e793c83b",
   "metadata": {},
   "outputs": [
    {
     "name": "stdout",
     "output_type": "stream",
     "text": [
      "[<selenium.webdriver.remote.webelement.WebElement (session=\"48edfb15325dc4a296261ecc4817ef49\", element=\"70eaf482-bbd2-461a-a6e0-b57b2a8634a0\")>]\n",
      "Walid KHIRDINE\n",
      "https://media-exp1.licdn.com/dms/image/C4E03AQF9osGAsMI2kA/profile-displayphoto-shrink_400_400/0/1646586541420?e=1657152000&v=beta&t=1TsfnwAfsYz-5JFrGqK1BG6QoxdVd81JPEqhbo2GH4w\n"
     ]
    },
    {
     "name": "stderr",
     "output_type": "stream",
     "text": [
      "C:\\Users\\WalidCorleone\\AppData\\Local\\Temp\\ipykernel_27372\\2158959595.py:7: DeprecationWarning: find_element_by_* commands are deprecated. Please use find_element() instead\n",
      "  text = driver.find_element_by_class_name(\"text-heading-xlarge.inline.t-24.v-align-middle.break-words\").text\n"
     ]
    }
   ],
   "source": [
    "driver.get('https://www.linkedin.com/in/walid-khirdine/')\n",
    "picture_url = driver.find_elements(By.CLASS_NAME, 'profile-photo-edit.pv-top-card__edit-photo')\n",
    "print(picture_url)\n",
    "for url in picture_url:\n",
    "    a = url.find_element(By.TAG_NAME, 'img').get_attribute('src')\n",
    "    text = driver.find_element_by_class_name(\"text-heading-xlarge.inline.t-24.v-align-middle.break-words\").text\n",
    "    print(text)\n",
    "    print(a)\n",
    "    for imagename in imageslist:\n",
    "    # # download the image\n",
    "        if imagename+\".png\" != text:\n",
    "            urllib.request.urlretrieve(a, \"images/\"+text+\".png\")\n",
    "            # add a 5 second pause loading each URL\n",
    "            time.sleep(2)\n"
   ]
  },
  {
   "cell_type": "code",
   "execution_count": 23,
   "id": "4cc47721",
   "metadata": {},
   "outputs": [
    {
     "name": "stdout",
     "output_type": "stream",
     "text": [
      "['.env', '.git', '.gitignore', '.ipynb_checkpoints', 'chromedriver.exe', 'geckodriver.log', 'images', 'README.md', 'requirements.txt', 'scraper.py', 'test.ipynb']\n"
     ]
    }
   ],
   "source": [
    "imagename = os.listdir(os.getenv(\"LOCAL_IMAGES\"))\n",
    "print(imagename)"
   ]
  },
  {
   "cell_type": "code",
   "execution_count": null,
   "id": "b4d8afef",
   "metadata": {},
   "outputs": [],
   "source": []
  }
 ],
 "metadata": {
  "kernelspec": {
   "display_name": "Python 3 (ipykernel)",
   "language": "python",
   "name": "python3"
  },
  "language_info": {
   "codemirror_mode": {
    "name": "ipython",
    "version": 3
   },
   "file_extension": ".py",
   "mimetype": "text/x-python",
   "name": "python",
   "nbconvert_exporter": "python",
   "pygments_lexer": "ipython3",
   "version": "3.9.7"
  }
 },
 "nbformat": 4,
 "nbformat_minor": 5
}
