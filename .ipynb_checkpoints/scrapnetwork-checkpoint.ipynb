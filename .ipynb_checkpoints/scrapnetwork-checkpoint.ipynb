{
 "cells": [
  {
   "cell_type": "code",
   "execution_count": 44,
   "id": "1ab6884e",
   "metadata": {},
   "outputs": [],
   "source": [
    "from selenium.webdriver.support.ui import WebDriverWait\n",
    "from selenium.webdriver.common.by import By\n",
    "from selenium.webdriver.support import expected_conditions as EC\n",
    "from selenium.common.exceptions import NoSuchElementException\n",
    "from selenium import webdriver\n",
    "from dotenv import load_dotenv\n",
    "from parsel import Selector\n",
    "import urllib.request\n",
    "import time\n",
    "import re\n",
    "import os"
   ]
  },
  {
   "cell_type": "code",
   "execution_count": 45,
   "id": "02b9926b",
   "metadata": {},
   "outputs": [],
   "source": [
    "# Load .env file\n",
    "load_dotenv(verbose=True)\n",
    "\n",
    "# specifies the path to the chromedriver.exe\n",
    "\n",
    "def initWebdriver():\n",
    "    driver = webdriver.Chrome(\"C:/Users/WalidCorleone/selenium/DeepAnalyzerImages/Scraper/chromedriver.exe\")\n",
    "    # Maximaze page size\n",
    "    driver.maximize_window()\n",
    "    # driver.get method() will navigate to a page given by the URL address\n",
    "    driver.get('https://www.linkedin.com')\n",
    "    try:\n",
    "        # locate email form by_ID\n",
    "        username = WebDriverWait(driver, 2).until(\n",
    "            EC.presence_of_element_located((By.ID, 'session_key')))\n",
    "        # send_keys() to simulate key strokes\n",
    "        username.send_keys(\"khirdine.walid@gmail.com\")\n",
    "        time.sleep(0.5)\n",
    "        # locate password form by_ID\n",
    "        password = WebDriverWait(driver, 2).until(\n",
    "            EC.presence_of_element_located((By.ID, 'session_password')))\n",
    "        # send_keys() to simulate key strokes\n",
    "        password.send_keys(\"LINKDIN2lkref6w@\")\n",
    "     # Locate submit button by_xpath\n",
    "        sign_in_button = WebDriverWait(driver, 2).until(\n",
    "            EC.presence_of_element_located((By.XPATH, '//*[@type=\"submit\"]')))\n",
    "        # Signin button click\n",
    "        sign_in_button.click()\n",
    "    except NoSuchElementException:\n",
    "        print(\"\\tError finding MessagingList\")\n",
    "        pass\n",
    "    return driver\n"
   ]
  },
  {
   "cell_type": "code",
   "execution_count": 46,
   "id": "609aaf8a",
   "metadata": {},
   "outputs": [],
   "source": [
    "# get source code of my networks profiles and scroll 30 times \n",
    "def networkSource(link):\n",
    "    driver.get(link)\n",
    "    try:\n",
    "        time.sleep(3)\n",
    "        WebDriverWait(driver, 20).until(EC.element_to_be_clickable((\n",
    "            By.XPATH, \"//button/li-icon[@type='chevron-down-icon']\"))).click()\n",
    "        # Scrolling with chrono of 5 seconds ( you can changes as you like)\n",
    "        time_end = time.time() + 10\n",
    "        while time.time() < time_end:\n",
    "            driver.execute_script(\"window.scrollTo(0, document.body.scrollHeight);\")\n",
    "            time.sleep(1.5)\n",
    "            sel = Selector(text=driver.page_source)\n",
    "    except NoSuchElementException:\n",
    "        print(\"\\tError finding MessagingList\")\n",
    "        pass\n",
    "    return sel"
   ]
  },
  {
   "cell_type": "code",
   "execution_count": 47,
   "id": "5f07f910",
   "metadata": {},
   "outputs": [],
   "source": [
    "# Get src of each linkedin image profile \n",
    "\n",
    "def linkedinImgSrc():\n",
    "    sel = networkSource('https://www.linkedin.com/mynetwork/')\n",
    "    # to get all the link in the script a\n",
    "    image_profile= set([a.attrib['src'] \n",
    "                        for a in sel.css('img') \n",
    "                    if (\"profile-displayphoto-shrink\" or \n",
    "                        \"profile-framedphoto-shrink\"  in a.attrib['src'])])\n",
    "    return image_profile\n"
   ]
  },
  {
   "cell_type": "code",
   "execution_count": 48,
   "id": "4ffa39e2",
   "metadata": {},
   "outputs": [],
   "source": [
    "# Get the urls from local and check if they already exists in href got\n",
    "\n",
    "def linkToDownload():\n",
    "    links = linkedinImgSrc()\n",
    "    linktoload = [row for row in links if row not in linksStored()]\n",
    "    print(\"Les profile a télécharger <<<<<<<<<.......................>>>>>>>\", linktoload)\n",
    "    print(\"Local link <------>>>>>>\", linksStored())\n",
    "    return linktoload"
   ]
  },
  {
   "cell_type": "code",
   "execution_count": 56,
   "id": "4411e7f6",
   "metadata": {},
   "outputs": [],
   "source": [
    "# Get the links from storelink\n",
    "\n",
    "def linksStored():\n",
    "    with open('imagename.txt', \"r\") as local:\n",
    "        local_links = local.readlines()\n",
    "        # to remove the \\n\n",
    "        final_link = [local.strip(\"\\n\") for local in local_links]\n",
    "        print(final_link)\n",
    "        local.close()\n",
    "    return final_link"
   ]
  },
  {
   "cell_type": "code",
   "execution_count": null,
   "id": "3959bffa",
   "metadata": {},
   "outputs": [],
   "source": []
  },
  {
   "cell_type": "code",
   "execution_count": 50,
   "id": "d898eae8",
   "metadata": {},
   "outputs": [],
   "source": [
    "# Adding links  in local\n",
    "\n",
    "def StoreImgName(links):\n",
    "    with open('imagename.txt', 'a') as f:\n",
    "        f.write(links+\" \\n\")\n",
    "        f.close()\n",
    "    return links"
   ]
  },
  {
   "cell_type": "code",
   "execution_count": 51,
   "id": "93104660",
   "metadata": {},
   "outputs": [],
   "source": [
    "def GetImageName(src):\n",
    "    name=[item for nom in src for item in re.findall(\"(\\/0\\/[A-z0-9_-]*)+\\/?\", nom)]\n",
    "    return name"
   ]
  },
  {
   "cell_type": "code",
   "execution_count": 52,
   "id": "cbb5b6d3",
   "metadata": {},
   "outputs": [],
   "source": [
    "  def downloadImages(local_image_names, image_url):\n",
    "    try:\n",
    "        # get the source of the name profile\n",
    "        image_name=GetImageName(image_url)\n",
    "        # Compare the name of local images and the futur downloading images to not have a double\n",
    "        for name in image_name:\n",
    "            if name+'.png' not in local_image_names:\n",
    "                # Download the image\n",
    "                urllib.request.urlretrieve(\n",
    "                    image_url, \"images/\"+name+\".png\")\n",
    "                # Add the link to the local txt\n",
    "                StoreImgName(image_url)\n",
    "                print(\"Download successfull, the link downloaded\",image_url)\n",
    "                # add a 5 second pause loading each URL\n",
    "                time.sleep(5)\n",
    "    except urllib.error.HTTPError as e:\n",
    "        print(e.code)\n",
    "        print(e.read())\n",
    "        pass"
   ]
  },
  {
   "cell_type": "code",
   "execution_count": 53,
   "id": "5e6aa199",
   "metadata": {},
   "outputs": [],
   "source": [
    "# DownLoad function to get profile images\n",
    "\n",
    "def downloadImageAndLink(driver):\n",
    "    try:\n",
    "        # Getting our list of images\n",
    "        local_image_names = linksStored()\n",
    "        for image_url in linkToDownload():\n",
    "            downloadImages(local_image_names, image_url)\n",
    "    except NoSuchElementException:\n",
    "        print(\"\\tError finding MessagingList\")\n",
    "        pass\n",
    "    driver.close()"
   ]
  },
  {
   "cell_type": "code",
   "execution_count": 55,
   "id": "57879a05",
   "metadata": {},
   "outputs": [
    {
     "name": "stderr",
     "output_type": "stream",
     "text": [
      "C:\\Users\\WalidCorleone\\AppData\\Local\\Temp\\ipykernel_18712\\1205783183.py:7: DeprecationWarning: executable_path has been deprecated, please pass in a Service object\n",
      "  driver = webdriver.Chrome(\"C:/Users/WalidCorleone/selenium/DeepAnalyzerImages/Scraper/chromedriver.exe\")\n"
     ]
    },
    {
     "name": "stdout",
     "output_type": "stream",
     "text": [
      "Les profile a télécharger <<<<<<<<<.......................>>>>>>> ['https://media-exp1.licdn.com/dms/image/C4E16AQGr7Q0DL_3G_w/profile-displaybackgroundimage-shrink_200_800/0/1644715519154?e=1658361600&v=beta&t=y0ZqOL_YgRBJLbiTSyQkmkHEeN8o24-vb58oH8Eh6TQ', 'https://media-exp1.licdn.com/dms/image/C4D07AQFOs3pzsIS_Bw/group-heroimage-shrink_640_160/0/1605830334455?e=1653660000&v=beta&t=BjYPH4Kj6BCGofsFy47roKJmor-VkBRuXS88hvOJJTY', 'https://media-exp1.licdn.com/dms/image/C4E1BAQGH2_G7RVU9nw/company-background_200/0/1631803497684?e=1653660000&v=beta&t=r76TTyd7ev3kB2RYxziPHENz1OIHemnpe4eX5lp4gGo', 'https://media-exp1.licdn.com/dms/image/C4E03AQG92_hqeOqR0w/profile-displayphoto-shrink_200_200/0/1642103511909?e=1658361600&v=beta&t=eANEBOjeNtaayChFbSaMeFyN72VPWvNlZ3cq6aVi_MA', 'https://media-exp1.licdn.com/dms/image/D4E35AQF9pNJRkBDY3A/profile-framedphoto-shrink_200_200/0/1639762443068?e=1653660000&v=beta&t=6WeQDbH-pV88hlsPnOyfiSyp81XsyfQfG4YmMJsonaE', 'https://media-exp1.licdn.com/dms/image/C4D1BAQFMcR_Lx4Zs6g/company-background_200/0/1612341276047?e=1653660000&v=beta&t=dYFNuGX_XjPk3ogeszU_uNMbgbLORWg4hK5MOduYWUg', 'https://media-exp1.licdn.com/dms/image/C4D0BAQFo-HrtG1f0xg/company-logo_100_100/0/1633273620248?e=1661385600&v=beta&t=Z2b4q9emPi4p_D0i4z8WNA3wzzQpVz0Kkz2Bro7jUQM', 'https://media-exp1.licdn.com/dms/image/C5616AQHoh7dpehAdBw/profile-displaybackgroundimage-shrink_200_800/0/1637026616120?e=1658361600&v=beta&t=1wH9nOid9bSwclsYrmI5WBGsnBzKVxzXJReC5qJz5EI', 'https://media-exp1.licdn.com/dms/image/C4E16AQF2strQjk1AHA/profile-displaybackgroundimage-shrink_200_800/0/1634734698688?e=1658361600&v=beta&t=czxbOLz9uo9IdlJGIYJXbxP0hoiBV5aiE0oBTvpCWeM', 'https://media-exp1.licdn.com/dms/image/C4E03AQHGaQjj97rfyA/profile-displayphoto-shrink_200_200/0/1603315528842?e=1658361600&v=beta&t=dacF-PkyXkFcIOfvoUTSMSgZaSnA-Td11uwXgWhGHVI', 'https://media-exp1.licdn.com/dms/image/C510BAQECpcw1MxZiQA/company-logo_100_100/0/1584641063141?e=1661385600&v=beta&t=KMt1aI1nwZuDBhOVW7Tyhck8Rdgn-JZ2L-ZXUUYwsEs', 'https://media-exp1.licdn.com/dms/image/C4D03AQH05X8SpDmLUA/profile-displayphoto-shrink_200_200/0/1642713089111?e=1658361600&v=beta&t=F9RUnjDifvzHlfu-EdqbmLCkz6Wus_KNyRGANUPfRes', 'https://media-exp1.licdn.com/dms/image/C4E1BAQHXIWGYpztUtQ/company-background_200/0/1647611351243?e=1653660000&v=beta&t=cDhcBvXSiHx03bRVyt2SfNWq3-Un1gEUNEt3rNmLV2k', 'https://media-exp1.licdn.com/dms/image/D5635AQHF5lFzmlOahw/profile-framedphoto-shrink_200_200/0/1636461478619?e=1653660000&v=beta&t=tuuKLkvS6012nD5gRbh5iCxl-jx_M7h-A9pEFLp-Xtw', 'https://media-exp1.licdn.com/dms/image/C4D03AQFGEpc6fpzYsw/profile-displayphoto-shrink_200_200/0/1613510655252?e=1658361600&v=beta&t=L0SwVviBzYQYFkqXlOj4w-kWi0UHJOy0H3El_aKFnVQ', 'https://media-exp1.licdn.com/dms/image/C4E03AQFEHdaOb6mU1A/profile-displayphoto-shrink_200_200/0/1650465114621?e=1658361600&v=beta&t=lnSlC4fo1o4fudmpbQx_VNd0OTGBJJwdPuO3l2qzjvQ', 'https://media-exp1.licdn.com/dms/image/C4E16AQHFq1l4ROxbMw/profile-displaybackgroundimage-shrink_200_800/0/1652873092813?e=1658361600&v=beta&t=j9jGZVmntcyuzifhIjK3hhj4ddYwQe_1o6K0iMyUO48', 'https://media-exp1.licdn.com/dms/image/C4E16AQFDboXUuWcNvA/profile-displaybackgroundimage-shrink_200_800/0/1646259301576?e=1658361600&v=beta&t=NIkI478n2msihnwd3KX484nkSWnh8xoE0mHVBvouN9E', 'https://media-exp1.licdn.com/dms/image/C4E16AQGpUejjBC2hjQ/profile-displaybackgroundimage-shrink_200_800/0/1649330418790?e=1658361600&v=beta&t=7LNkQQWvB5PFVQ9KX4A_O4W9xrguDPtDshLkSvREwH0', 'https://media-exp1.licdn.com/dms/image/C4D03AQH_FbfcSKCi3g/profile-displayphoto-shrink_200_200/0/1594317922946?e=1658361600&v=beta&t=2OlBBZ5KiBYX9GT02iorJL0PmJw03kW49SEjpxyZtss', 'https://media-exp1.licdn.com/dms/image/C5603AQFlVy2JSNzlHA/profile-displayphoto-shrink_200_200/0/1624393523831?e=1658361600&v=beta&t=t9646E_YG4WoVabuKEtPlYS62ix7qVpdW7dwwhgxSeM', 'https://media-exp1.licdn.com/dms/image/C4D03AQEFZdyLIBhh9Q/profile-displayphoto-shrink_200_200/0/1645571421667?e=1658361600&v=beta&t=QjU7QSzKACzB2BgVIx3sMC65rURur2OzIRd98YBsobA', 'https://media-exp1.licdn.com/dms/image/C4D03AQF7QF-aHlvZwg/profile-displayphoto-shrink_200_200/0/1629655148669?e=1658361600&v=beta&t=CDWUYtw-F-_VqrTIictOsT9HOmpu7-weUqoEj92iRVM', 'https://media-exp1.licdn.com/dms/image/D4E35AQHRK9wHE0uehA/profile-framedphoto-shrink_200_200/0/1636297269681?e=1653660000&v=beta&t=hL0E8cDc2XPSRWUwPBr-5gaG_elhU2w1zWaasaL5D40', 'https://media-exp1.licdn.com/dms/image/C4D03AQEDLJFeycvVGg/profile-displayphoto-shrink_200_200/0/1625141041243?e=1658361600&v=beta&t=1z8778a264ZjWEjH5O949zpYZctSQ8NsK8WXhhy1z-g', 'https://media-exp1.licdn.com/dms/image/C5107AQFyzSWXJja-ng/group-heroimage-shrink_1440_360/0/1564286895390?e=1653660000&v=beta&t=EGzAKiL4edmieQJ9lGQTopjkossKMbmu-NDkJoL8t0U', 'https://media-exp1.licdn.com/dms/image/C4D03AQEwG1MvOPY45g/profile-displayphoto-shrink_200_200/0/1648573902228?e=1658361600&v=beta&t=MzCl6pRtmDCmojlmxdeuFkngdcq8C3D1E4Fwrte3GW8', 'https://media-exp1.licdn.com/dms/image/C4D03AQGKn3eegz4SBw/profile-displayphoto-shrink_200_200/0/1610056514674?e=1658361600&v=beta&t=KHnmLjgeiogWn2WKQMJosCXU6JDGMwNgdvofH3eiF5g', 'https://media-exp1.licdn.com/dms/image/C5603AQH4jEocVisohg/profile-displayphoto-shrink_200_200/0/1619461927882?e=1658361600&v=beta&t=_NIPyV2QNIw4xWMcOGwUYKT7kZY5aNRHekJh26IgqR8', 'https://media-exp1.licdn.com/dms/image/C4E03AQES7owLkbrwWw/profile-displayphoto-shrink_200_200/0/1644949831624?e=1658361600&v=beta&t=KxABW2DOE9tFUG9QmgaVejSaAAAY3pNVBGXQjtnWRkg', 'https://media-exp1.licdn.com/dms/image/C4E0BAQGEFbkSwuhxWw/company-logo_200_200/0/1647610478205?e=1661385600&v=beta&t=JYPSF6Id8TOf7gcwUD5Uiqcm8BkPDqF8JiU10t09xU8', 'https://media-exp1.licdn.com/dms/image/C4E03AQEGsIshbN70GQ/profile-displayphoto-shrink_200_200/0/1637418275426?e=1658361600&v=beta&t=fw6rPtgJ5T-FK0TnJfdzIaH2YTxdkz6r1sEqDrN3Md0', 'https://media-exp1.licdn.com/dms/image/C5616AQFPDVyhyGa__g/profile-displaybackgroundimage-shrink_200_800/0/1644830396826?e=1658361600&v=beta&t=_lXtLBp4L5KHArjTgBR9rMUhmGgiJS-vtKcdlARxwMU', 'https://media-exp1.licdn.com/dms/image/C4D0BAQHdhkLfgTDwXQ/company-logo_200_200/0/1599343175518?e=1661385600&v=beta&t=34tqmtogwObtwnR-ULUuf4Kew1LFUaZaZ_4tcdNAkxQ', 'https://media-exp1.licdn.com/dms/image/C4E07AQFt3jEx_srR2A/group-logo_image-shrink_400x400/0/1631361632632?e=1653660000&v=beta&t=A-ESlCNVFJRfq0quDFbx-bfikcg6E7TIqQsdYFb0Q2E', 'https://media-exp1.licdn.com/dms/image/D561EAQFIWuQGPLoM_g/event-background-image-crop_270_480/0/1649707685356?e=1653660000&v=beta&t=HOI-a6u4FGu-lEqNaCVPhHhQ-aU--B83Lvu7wNQ63jo', 'https://media-exp1.licdn.com/dms/image/C4D0BAQHfe6lnbeWn9A/company-logo_200_200/0/1613514339314?e=1661385600&v=beta&t=DR_rUm2_QleUSHomGLSitOweMaGmnsOpGA08RsbbPWk', 'https://media-exp1.licdn.com/dms/image/C4D03AQHccw5ElVAtGA/profile-displayphoto-shrink_200_200/0/1640368099248?e=1658361600&v=beta&t=wYe3Hmr58PcVc3f27W1QXpICEtXYMO604htL3E416Do', 'https://media-exp1.licdn.com/dms/image/C5616AQFDdoIPPQZ_6Q/profile-displaybackgroundimage-shrink_200_800/0/1645090377538?e=1658361600&v=beta&t=VUqXrZxmGtZLqyLa4zgQCGT9noBZi4m-d8U6ZUyY7e4', 'https://media-exp1.licdn.com/dms/image/C5616AQGgXvEZ320q6g/profile-displaybackgroundimage-shrink_200_800/0/1543964907540?e=1658361600&v=beta&t=a0FoqgFmDq5FMW9MgH_J7fvrCrCDu6UYi2I37gjAEeI', 'https://media-exp1.licdn.com/dms/image/D4D35AQFmYqsV4Iun9w/profile-framedphoto-shrink_200_200/0/1644834022425?e=1653660000&v=beta&t=I6mFZqboq5QwfQNlZ9kJL4MU7ZTH2v9nU9dpr_skD4w', 'https://media-exp1.licdn.com/dms/image/C4D16AQGcHjH_Kmz0YQ/profile-displaybackgroundimage-shrink_200_800/0/1624886888541?e=1658361600&v=beta&t=rcTeQQj4sb1Hcb4bYFBTmvQT8X7PlfZw_HOkdBUTdhk', 'https://media-exp1.licdn.com/dms/image/C4E03AQGuNqPo1N1quw/profile-displayphoto-shrink_200_200/0/1646303937963?e=1658361600&v=beta&t=n2wRAbeEmMShsXo7175jQdCug4gFwuzpcAlz-8iTLRk', 'https://media-exp1.licdn.com/dms/image/C5635AQEdU2Dser3u1g/profile-framedphoto-shrink_200_200/0/1613427086191?e=1653660000&v=beta&t=4piO33MutBzpVcWOMw8DfPbjBfu7BGdGXH3czoaluxU', 'https://media-exp1.licdn.com/dms/image/C4E03AQHb3q9SjCK7BA/profile-displayphoto-shrink_200_200/0/1647789752132?e=1658361600&v=beta&t=Wi9MMv7vAPfyHG6q1zoUGunjaXDsKr2X3FkW20Yo3j0', 'https://media-exp1.licdn.com/dms/image/D4E35AQH1yJgNuAqP9g/profile-framedphoto-shrink_200_200/0/1647961194919?e=1653660000&v=beta&t=w8LVR5pbCCsvKcpfoIxU8JPRQlZtlFRSeqxiOAoC6ns', 'data:image/gif;base64,R0lGODlhAQABAIAAAAAAAP///yH5BAEAAAAALAAAAAABAAEAAAIBRAA7', 'https://media-exp1.licdn.com/dms/image/C5607AQFZ90AteWjfaw/group-logo_image-shrink_400x400/0/1631399933529?e=1653660000&v=beta&t=fn0bmTtNSI50GsV7IpPAhjxbtCTlj6xJTa4FRX_iAgk', 'https://media-exp1.licdn.com/dms/image/C4D03AQGbHwDxA0SgVg/profile-displayphoto-shrink_200_200/0/1642373485950?e=1658361600&v=beta&t=TSQ1i-CZXC6oUtaa9zVC7IirKTVXDFuZq6-Kjv5AqJA', 'https://media-exp1.licdn.com/dms/image/C4E03AQHBxhEH6vLm4A/profile-displayphoto-shrink_200_200/0/1644570559375?e=1658361600&v=beta&t=etCmRtD-T9aQTCeIy75Nx5hTqHZr9QSyfNU5x434jBY', 'https://media-exp1.licdn.com/dms/image/C4E16AQERg6RSa2HrNQ/profile-displaybackgroundimage-shrink_200_800/0/1646305208819?e=1658361600&v=beta&t=x5PkZVgGGR37fnMgrlHAnNkcSybzOCPsoKMk1fSWA4g', 'https://media-exp1.licdn.com/dms/image/C4E03AQHdTOZ-EFOSmQ/profile-displayphoto-shrink_200_200/0/1516587718239?e=1658361600&v=beta&t=zOKSwYAmpGdw2cZu1f6MS-KKgSOh_tiQ4kmWTyhp6PI', 'https://media-exp1.licdn.com/dms/image/D4E35AQEsw6PraMsrTw/profile-framedphoto-shrink_200_200/0/1646833284130?e=1653660000&v=beta&t=NU1MI_12VnoBk8nRCBcpODQIWIPt6IHgbh-C1_kmmS4', 'https://media-exp1.licdn.com/dms/image/C4D03AQFdn2STdAB8bg/profile-displayphoto-shrink_200_200/0/1613397450885?e=1658361600&v=beta&t=p0CppPIST50sEgI6qmw9N3lPHh8j3ROtk3Vp1HX9tPs', 'https://media-exp1.licdn.com/dms/image/C4D0BAQE-oJ7zr3CHSg/company-logo_200_200/0/1617639708016?e=1661385600&v=beta&t=UvG1pYkuaE0mOXAVojOhK_WZyT2FwvzZnr4NtMVUO9U', 'https://media-exp1.licdn.com/dms/image/D4E35AQEsB3IKtgE42A/profile-framedphoto-shrink_200_200/0/1640691255246?e=1653660000&v=beta&t=6BpmPnZ9Iw_wTzTAsuZltEx8ZO7c_LzsEucTdXZjAfw', 'https://media-exp1.licdn.com/dms/image/C4E16AQEPj3JEjC0LVA/profile-displaybackgroundimage-shrink_200_800/0/1627738268090?e=1658361600&v=beta&t=S2HDcccTKY9umravQw8SGwdAKIMUP33eFVnRf9fozpM', 'https://media-exp1.licdn.com/dms/image/D561EAQFZnwQgcBbMnw/event-background-image-crop_270_480/0/1638809179471?e=1653660000&v=beta&t=XyW4I6hrDRsSNGB3xhT2Q4APJiDr0zHd8I1Z8SRSOb8', 'https://media-exp1.licdn.com/dms/image/C4E03AQGqUtz0zY-DKg/profile-displayphoto-shrink_200_200/0/1623072754067?e=1658361600&v=beta&t=E34eAw6GpY7lMMZNuN2oJ3r-tdRuVWk8YqcaK8pCP5c', 'https://media-exp1.licdn.com/dms/image/C4D03AQHRZNS-MMd2qw/profile-displayphoto-shrink_200_200/0/1600295986838?e=1658361600&v=beta&t=khQaZbklCCpnyVkl5K-xAnUcZp6jXBj9hk_QEA5EVf0', 'https://media-exp1.licdn.com/dms/image/C4D16AQHYutsvNsUePg/profile-displaybackgroundimage-shrink_200_800/0/1640368216056?e=1658361600&v=beta&t=OpvriqvnFlmglJ3jlODHFJPyhzCHuBKQn4H2lvpuufA', 'https://media-exp1.licdn.com/dms/image/C4E03AQHamw9IAnGwJw/profile-displayphoto-shrink_200_200/0/1649329952608?e=1658361600&v=beta&t=UgC2x7L9YxPOkvKlD8hwNX464XCfh4wrKwG6ViMLXMU', 'https://media-exp1.licdn.com/dms/image/D4D35AQEGLajC2jiHkw/profile-framedphoto-shrink_200_200/0/1643231679961?e=1653660000&v=beta&t=toHlnq6-ZUwvC_Ji8X3dsw6WMyG70EOpSZXfL-OGDdQ', 'https://media-exp1.licdn.com/dms/image/C4E16AQFtFm61TxpwMw/profile-displaybackgroundimage-shrink_200_800/0/1650536130477?e=1658361600&v=beta&t=gmI6rLb7H7XXKGj-Q33T5BZs42Ne8KGB6cCwNideBM0', 'https://media-exp1.licdn.com/dms/image/C4D16AQGlEOzjBj7jzg/profile-displaybackgroundimage-shrink_200_800/0/1644600888614?e=1658361600&v=beta&t=9k4MnerSZCSKCjRDztBMV3XJGOcxT6BJlTI1QB60JK0', 'https://media-exp1.licdn.com/dms/image/C5616AQGK9_ArvIMAUQ/profile-displaybackgroundimage-shrink_200_800/0/1590755628311?e=1658361600&v=beta&t=TasRwXWN08yqKxYAak8KXGCvbq2kwM9reHk8AgCS46w', 'https://media-exp1.licdn.com/dms/image/C4E03AQEE-aQG6gld_Q/profile-displayphoto-shrink_200_200/0/1646839034300?e=1658361600&v=beta&t=xHz9SJB2TAEvveNCgmD2R5_x6D_ffojcnw_ngRM7yz4', 'https://media-exp1.licdn.com/dms/image/D4D35AQGhLzkkgeOSpA/profile-framedphoto-shrink_200_200/0/1648761959333?e=1653660000&v=beta&t=9jtVWr9CYn_fxtC5aLIXlyfhNLgOzjct_CECzT5x8bY', 'https://media-exp1.licdn.com/dms/image/C5616AQGGhkhGmz7yWg/profile-displaybackgroundimage-shrink_200_800/0/1592293689615?e=1658361600&v=beta&t=32_264b42_9vxWTPSD00ohtmC6AIx0MbFUrerSXY--c', 'https://media-exp1.licdn.com/dms/image/C4D03AQE-jcdSvW5BoQ/profile-displayphoto-shrink_200_200/0/1613422242789?e=1658361600&v=beta&t=nkRErBTt3M4iMH52qKmLuP-uZYQkQX1RuAgu4mI9tZg', 'https://media-exp1.licdn.com/dms/image/C4D03AQEwSpkkaa77jA/profile-displayphoto-shrink_200_200/0/1574275686553?e=1658361600&v=beta&t=7jTq7fdn3eI-zmFSOdvau17DL_MYnoo23GOiKPaXJ9o', 'https://media-exp1.licdn.com/dms/image/C5603AQFFiYKfLYDzTA/profile-displayphoto-shrink_200_200/0/1579685342556?e=1658361600&v=beta&t=ZLDngeHRlT5rM1r_Z83EfKluSdCaMI16l8DaPlzskn0', 'https://media-exp1.licdn.com/dms/image/C4D03AQEfL9bCtO-W_A/profile-displayphoto-shrink_100_100/0/1649496104187?e=1658361600&v=beta&t=oqXoK22dZzW3BSsPl01Q7E-P-Rp8IrvDOrVLXVoY4H4', 'https://media-exp1.licdn.com/dms/image/C5616AQEE8L1CHSGISg/profile-displaybackgroundimage-shrink_200_800/0/1645735100974?e=1658361600&v=beta&t=AuI0En4QYOMJ4SkApnMUt1XnFRg_o9KtXuC_G3MJ4hY', 'https://media-exp1.licdn.com/dms/image/C4E03AQF9osGAsMI2kA/profile-displayphoto-shrink_100_100/0/1646586541420?e=1658361600&v=beta&t=OfTrXl1XLx9qtx-zV_UH9Hjzx8D2UvWIBHHwSPP1nbk', 'https://media-exp1.licdn.com/dms/image/C4E1BAQGt2uksjiXUjQ/company-background_200/0/1625002824040?e=1653660000&v=beta&t=APLZOOy2QQhSl2mW_3J22aw5A6Wrmjpdj3QwAa0r874', 'https://media-exp1.licdn.com/dms/image/C4D16AQFVzCMEfiLTKg/profile-displaybackgroundimage-shrink_200_800/0/1639687813687?e=1658361600&v=beta&t=5HXyUz84aplZXGJ4SGJ20F3mh48iOuC9K35S7nXH8lA', 'https://media-exp1.licdn.com/dms/image/C4E03AQFii3xPdo32QQ/profile-displayphoto-shrink_200_200/0/1617566118483?e=1658361600&v=beta&t=xy2UlMaHtY8WuCH_Pr9GIXBZAnckxOD_DsUoL6-RQnA', 'https://media-exp1.licdn.com/dms/image/C4D16AQF0wNsilEzsJw/profile-displaybackgroundimage-shrink_200_800/0/1574527499877?e=1658361600&v=beta&t=xJMKGWl-kP2uckPBy3I-KMSsGWSIGNVr6cP0NxRmPdw', 'https://media-exp1.licdn.com/dms/image/C4D03AQF5-5ekykMOeg/profile-displayphoto-shrink_200_200/0/1579629295304?e=1658361600&v=beta&t=vd1hvUTbjrnndX2lK7I8RL7NQa1-SLB_co2D5OTolok', 'https://media-exp1.licdn.com/dms/image/C4D03AQEUPUZOFL1t6w/profile-displayphoto-shrink_200_200/0/1541667639864?e=1658361600&v=beta&t=ZvRR93Xa2ff6CLD8UR0_3xyqQbGuGiZXPJX3lc-obow', 'https://media-exp1.licdn.com/dms/image/C4D16AQE0UAYS0mMLWQ/profile-displaybackgroundimage-shrink_200_800/0/1631806571637?e=1658361600&v=beta&t=wm4YclsP12KoweNI6y_22orIaM9SbbbRIPvkej88YWA', 'https://media-exp1.licdn.com/dms/image/C4D03AQFLr9bqMuxuwA/profile-displayphoto-shrink_200_200/0/1648660486964?e=1658361600&v=beta&t=IrRTjDBiY7dXMi32SrHfcM4l4iKJJt4zf7EjLDzwfk4', 'https://media-exp1.licdn.com/dms/image/C4D03AQHIM6cdFuQzzw/profile-displayphoto-shrink_200_200/0/1633616637159?e=1658361600&v=beta&t=asWrDYoAtsFpdogltozGyO-M3P5WQUz5J12aJ5P2RNU', 'https://media-exp1.licdn.com/dms/image/C4D03AQEjqbJ5K322jw/profile-displayphoto-shrink_200_200/0/1606595500284?e=1658361600&v=beta&t=rPAf1Gn2Qa2ff0YpIYtkRgQAA0dbrIS_RQyS3sYFY3w', 'https://media-exp1.licdn.com/dms/image/D4E1EAQF9_LdAgIpEvA/event-background-image-crop_270_480/0/1651169071793?e=1653660000&v=beta&t=Y3q5sMyKqQ3g0DXZ73Pe-Jr1__X2dpzIKlz992YVar4', 'https://media-exp1.licdn.com/dms/image/C561BAQEy3MmzS7VZkw/company-background_200/0/1643880830426?e=1653660000&v=beta&t=edSkIbyFarREarcUiVAMVUocEj2scUrb_8TfTGVxLWw', 'https://media-exp1.licdn.com/dms/image/C4D03AQGJIezDu285dg/profile-displayphoto-shrink_200_200/0/1542473753178?e=1658361600&v=beta&t=x_qzdD6fTQbjycSEaNjxPXUwHqWOPsJXN2erYnIzi_U', 'https://media-exp1.licdn.com/dms/image/C4D16AQGr-OdQ7HyfkA/profile-displaybackgroundimage-shrink_200_800/0/1610056871417?e=1658361600&v=beta&t=oKxgRIC5iftdXbLRYrj9ay4cb_HFgXOPAK-oDNyKL2o', 'https://media-exp1.licdn.com/dms/image/C5616AQF0P6rQLUUw8Q/profile-displaybackgroundimage-shrink_200_800/0/1636453311338?e=1658361600&v=beta&t=DaoGbN7d_jCkKAx6yEcmfqrfPWob0a-xKBr9Usjl2Bw', 'https://media-exp1.licdn.com/dms/image/C5603AQEalDtdN0hepw/profile-displayphoto-shrink_200_200/0/1645788757760?e=1658361600&v=beta&t=IGwePI5cHSpXTkbRFlEdSzmbXoP9WTZjIpeZUXqHVgU', 'https://media-exp1.licdn.com/dms/image/C4E03AQEoqfgGbs20gw/profile-displayphoto-shrink_100_100/0/1633683525654?e=1658361600&v=beta&t=gpIUVUR-RcyMTFPlUuuIp83Qc5cnSUwO74NxS9HkW5E', 'https://media-exp1.licdn.com/dms/image/C5607AQEQ2KHPT3f8sQ/group-heroimage-shrink_640_160/0/1590702218832?e=1653660000&v=beta&t=pX9huYQS7o8hrT_adykkAagIFMCfV0uKogMQlcljq70', 'https://media-exp1.licdn.com/dms/image/D4E35AQHELI_vdmrdXg/profile-framedphoto-shrink_200_200/0/1650433610050?e=1653660000&v=beta&t=Iu23OwOTjq6ZreuchbF_aRaLIAk95OUJH6YVB_ax3YQ', 'https://media-exp1.licdn.com/dms/image/C5607AQHfcBYpBhXeDQ/group-heroimage-shrink_640_160/0/1626460226839?e=1653660000&v=beta&t=3I6EY7wgI3ZAcnHXKuhC2mggiFBzpKpzm_41xpLGV5A', 'https://media-exp1.licdn.com/dms/image/C4D03AQEVGoESpRRjYA/profile-displayphoto-shrink_200_200/0/1635570433735?e=1658361600&v=beta&t=hzCXpgd8_TGo5O2dZ_0MHQpmFlZByZqzexKIVEgrne8', 'https://media-exp1.licdn.com/dms/image/C5616AQEUqaslFmrHuA/profile-displaybackgroundimage-shrink_200_800/0/1620161520929?e=1658361600&v=beta&t=KVfJj66onJbv6FADJKx7WfyeYdHgmnybr__peSDSrww', 'https://media-exp1.licdn.com/dms/image/C4E16AQGWLLbErw0h3Q/profile-displaybackgroundimage-shrink_200_800/0/1584014965854?e=1658361600&v=beta&t=WOXoj_wB0vRaSybfhgpQ_UsOuJ7tDM1Fvd_0SbvdN5M', 'https://media-exp1.licdn.com/dms/image/C4D03AQHyXlA34TwHpQ/profile-displayphoto-shrink_200_200/0/1632305872283?e=1658361600&v=beta&t=SJkFkEq7RGhyLptF1jHaN7Y2eg8kzYLv_Tv2kABm52s', 'https://media-exp1.licdn.com/dms/image/C4E16AQE68GiUF1FvQQ/profile-displaybackgroundimage-shrink_200_800/0/1624345909778?e=1658361600&v=beta&t=_0qxX2_v5djq-kx5iIUfA-uSzHsdXr1Eo4HGyBU2CcU', 'https://media-exp1.licdn.com/dms/image/C561BAQH8A5IB4B11zw/company-background_200/0/1551643589192?e=1653660000&v=beta&t=eB_WyKn7N23i47XGvA3y4FEe6vhg5EIAX4sG6yP5D5o', 'https://media-exp1.licdn.com/dms/image/C4D16AQG7d1pJeUovCQ/profile-displaybackgroundimage-shrink_200_800/0/1517362141599?e=1658361600&v=beta&t=gafLmUC1eLglObVg7Akzi5il9flQE-6TKcBK5wkZaBM', 'https://media-exp1.licdn.com/dms/image/C4E07AQHCEZOt_P02WA/group-logo_image-shrink_400x400/0/1631363387339?e=1653660000&v=beta&t=dW-HnGavTHckLIhm7km2dBkNuzJYyUvrM8MfXQJn4L4', 'https://media-exp1.licdn.com/dms/image/C4E03AQFqDz6bnM-ZQQ/profile-displayphoto-shrink_200_200/0/1634488748718?e=1658361600&v=beta&t=YlGINAu0tTr3MLMBICkdtAzfbGAipF7wJCdCCITDIfc', 'https://media-exp1.licdn.com/dms/image/C4D16AQEhynS602a7vA/profile-displaybackgroundimage-shrink_200_800/0/1646989690268?e=1658361600&v=beta&t=7VH3kPQfactMwvwzO9i-xv35wSPxhi3nE2UMGK0nuyA', 'https://media-exp1.licdn.com/dms/image/C4E03AQE78w-jVW-eNw/profile-displayphoto-shrink_200_200/0/1618818588921?e=1658361600&v=beta&t=7Ocevm-tDL3aFMHJyeriqTJv_qRsrs_jKCcpEeOAFLk', 'https://media-exp1.licdn.com/dms/image/C4D03AQExV7zpzPM8-g/profile-displayphoto-shrink_100_100/0/1647046383448?e=1658361600&v=beta&t=CIuFx_PSRyjKv_z5LihHQG5hYn8xYn4tFfO-uaOIv-Y', 'https://media-exp1.licdn.com/dms/image/D5635AQFYQNIwSJnpuA/profile-framedphoto-shrink_200_200/0/1637489409516?e=1653660000&v=beta&t=dD5waGS_Bg3z-L5expmfPs0tXJxhSIW0awr8uDa2D1Q', 'https://media-exp1.licdn.com/dms/image/C4E07AQFJT6gIza9_Ww/group-heroimage-shrink_640_160/0/1640418949865?e=1653660000&v=beta&t=rSh-qsejrYZErXdY-dypOXeHVftdmAylB8m-dh9Lj7U', 'https://media-exp1.licdn.com/dms/image/C4D16AQFDXJqLt2gvlQ/profile-displaybackgroundimage-shrink_200_800/0/1646050010408?e=1658361600&v=beta&t=kCvz0-HSGjtRhfj7kp1OMcGZO_dCVpGKvt2WObgdreo', 'https://media-exp1.licdn.com/dms/image/C4D03AQEX2EM3pw-aGg/profile-displayphoto-shrink_200_200/0/1541576535675?e=1658361600&v=beta&t=nghzdXShkTHaFQrcAqAVYMskF7sV2_oOrTVcgBJxnC8', 'https://media-exp1.licdn.com/dms/image/D4E35AQEJm0sjkMUrDw/profile-framedphoto-shrink_200_200/0/1651753437980?e=1653660000&v=beta&t=4-j89zXGPMXTF8vzRcKWveva2M4Hw-iqlHCDB_nrsfs', 'https://media-exp1.licdn.com/dms/image/C4E03AQG0-nBTzFA7vw/profile-displayphoto-shrink_200_200/0/1645452354896?e=1658361600&v=beta&t=vTJdGII7W4sdHIbmI4lW2rBv1l29gVeMh_nmPul3j1M', 'https://media-exp1.licdn.com/dms/image/C4E35AQEIVkoUWgLFvw/profile-framedphoto-shrink_200_200/0/1597096649541?e=1653660000&v=beta&t=A1recCpluni7ZoBtuDlJ5sJtuqvs0M7R9SczxQxQ21A', 'https://media-exp1.licdn.com/dms/image/C4D07AQH2q7TKmljeSw/group-logo_image-shrink_400x400/0/1631354674766?e=1653660000&v=beta&t=D0hQg0lHA6ig8WQbf_z_VETrzUzBcDiDCwT0zuUYV9o', 'https://media-exp1.licdn.com/dms/image/C4D03AQFXUxFTumgeUg/profile-displayphoto-shrink_200_200/0/1631994585332?e=1658361600&v=beta&t=j1NrUH_ADtTpmLPZzCaCM_ORYPJbqu1UzpMHTbDZl7o', 'https://media-exp1.licdn.com/dms/image/C5603AQFs1189_leD8A/profile-displayphoto-shrink_200_200/0/1639575421270?e=1658361600&v=beta&t=Mg8H70VlZjuK6gYXSNqJ3e7eX30eGRSqbEza6as__tQ', 'https://media-exp1.licdn.com/dms/image/C4E03AQEbkcUK12nHQw/profile-displayphoto-shrink_200_200/0/1601448489599?e=1658361600&v=beta&t=pNGAP_ANyLSwcUWl67AsIZcs0ZwV4WXJ0bvWiNsJ6o8', 'https://media-exp1.licdn.com/dms/image/C4E03AQFy1K9Db2nTSA/profile-displayphoto-shrink_200_200/0/1650630077491?e=1658361600&v=beta&t=TACqV6YLWLM9mUeuhJUsBMOXEf_47Hz29n9LNEW6CLc', 'https://media-exp1.licdn.com/dms/image/C4E03AQHtWR32Ogrthw/profile-displayphoto-shrink_200_200/0/1640725033267?e=1658361600&v=beta&t=pSFUYpLZIQ_bJF_PZNivtiV9rShQapzInwrWm8t-Gt8', 'https://media-exp1.licdn.com/dms/image/C4D03AQE-dxiWyEIomQ/profile-displayphoto-shrink_200_200/0/1595412205869?e=1658361600&v=beta&t=VEQwVdKbX3Q93biqIPCYk3AZfnHL_ONvwigktznDBbg', 'https://media-exp1.licdn.com/dms/image/D4E35AQEuc-Lv9mRlDg/profile-framedphoto-shrink_200_200/0/1627737960834?e=1653660000&v=beta&t=Sx20E0CY7-Sb91OcOFH1JmZE3TFnSxTOHHgWoueo1MY', 'https://media-exp1.licdn.com/dms/image/C5603AQEo51VTRWq8xA/profile-displayphoto-shrink_200_200/0/1644837494749?e=1658361600&v=beta&t=NMg2F7NsXy80iwtoTrfSYVNTFFmEFjaBSBY36fqp05s', 'https://media-exp1.licdn.com/dms/image/C4E16AQFUZa-Nz6VWgw/profile-displaybackgroundimage-shrink_200_800/0/1636297212778?e=1658361600&v=beta&t=lYyO_ESwn7AzGtPr_uMDgpk3gy9-QRoDoVP1JZNIT9o', 'https://media-exp1.licdn.com/dms/image/C4D16AQHlvN1b2MpxPQ/profile-displaybackgroundimage-shrink_200_800/0/1642374326725?e=1658361600&v=beta&t=ndPm5Tmtk7r6FxGzKRdLUMqvNmD5g8Z9eFRl2PkmAM4', 'https://media-exp1.licdn.com/dms/image/C4D03AQHESlZcJKH37Q/profile-displayphoto-shrink_200_200/0/1633979693157?e=1658361600&v=beta&t=Ae8n_wH5V0pwo7aIt02cOFdhcllmdVTdk-IVhIRmH7M', 'https://media-exp1.licdn.com/dms/image/C4E16AQEbDti14HoU4Q/profile-displaybackgroundimage-shrink_200_800/0/1645206200982?e=1658361600&v=beta&t=s3GgKuaYiNMZRdhgSyVipqkDzuzYKWr1g84PX4IgrwA', 'https://media-exp1.licdn.com/dms/image/C4D16AQHx55NaIbLbDw/profile-displaybackgroundimage-shrink_200_800/0/1624104068341?e=1658361600&v=beta&t=b3EUCs2u1nerbEnljq6OuTQATMdr0eXAwk_5qZAit04', 'https://media-exp1.licdn.com/dms/image/C4D16AQE1X4Cs1896SA/profile-displaybackgroundimage-shrink_200_800/0/1637865797758?e=1658361600&v=beta&t=S2oXv-GT0nlnPmu6LwguHaoHiFuh0HuDJK9lLNuHPIg', 'https://media-exp1.licdn.com/dms/image/C4D03AQFK60CU4a1iwQ/profile-displayphoto-shrink_200_200/0/1651949852026?e=1658361600&v=beta&t=Hb-on-_YeWMbqS4rvi59ig2faIs02E4Gyg7uTUWQ6LU', 'https://media-exp1.licdn.com/dms/image/C5603AQESqUvgExhh1g/profile-displayphoto-shrink_200_200/0/1615390660454?e=1658361600&v=beta&t=tGQ2i5wGtvXAkGqpT2HQDOY2btw278B5_NNBVIGLxKc', 'https://media-exp1.licdn.com/dms/image/D4E35AQE8zh-C5SD92Q/profile-framedphoto-shrink_200_200/0/1650957268922?e=1653660000&v=beta&t=Yi35bcEukvUejyp5WtQnINwP3zaLAd_5N8SC60mti6Q', 'https://media-exp1.licdn.com/dms/image/C4E16AQFWQK4IAJCMmA/profile-displaybackgroundimage-shrink_200_800/0/1631380143946?e=1658361600&v=beta&t=xLxTTbvR8xGj69Q_LL1BAl80eJQyfiIDXqpm3CnbZzU', 'https://media-exp1.licdn.com/dms/image/C4E03AQHb66Y8R1Rx6w/profile-displayphoto-shrink_200_200/0/1635506556037?e=1658361600&v=beta&t=OI7MBf438x5xC19ZpWRS-oJ1HUCeB7sLIAKPKOw3Yak', 'https://media-exp1.licdn.com/dms/image/C5603AQElpRCJKVJmQw/profile-displayphoto-shrink_200_200/0/1589312254185?e=1658361600&v=beta&t=2kgtxvqnvW9v7UxCV3UA12BqTF-IoL6A-BeCzq8aM6Y', 'https://media-exp1.licdn.com/dms/image/C560BAQFBheLuUqy4MQ/company-logo_200_200/0/1519891932718?e=1661385600&v=beta&t=oT9KcGMwn94I_OTHfS8e2PSfM0PhastxEi23oX25jAo', 'https://media-exp1.licdn.com/dms/image/D4D35AQGmZHYQd4v_Lg/profile-framedphoto-shrink_200_200/0/1648835107355?e=1653660000&v=beta&t=nMuCJFNcZg5zntHgjTYMUGn5fX6ex7YmaOGaorLQywE', 'https://media-exp1.licdn.com/dms/image/C5603AQGgEpr256coww/profile-displayphoto-shrink_200_200/0/1645092204631?e=1658361600&v=beta&t=UFjCrp9XE_6APymHz5Eohl5NzqrDBRZwm5PY-kEDOho', 'https://media-exp1.licdn.com/dms/image/C4E03AQEghGqZemP3rQ/profile-displayphoto-shrink_200_200/0/1649798175157?e=1658361600&v=beta&t=Ts9WvQwMQu_yrjnQZbI8YG1Yxos2HDGGU3CyrUlKR_M', 'https://media-exp1.licdn.com/dms/image/C4E16AQG6Y1RjUx2VYw/profile-displaybackgroundimage-shrink_200_800/0/1638989397491?e=1658361600&v=beta&t=aSe_V2aZWu88rbiBM3fFYseTzW3TYq1r2mE6wf5BVVg', 'https://media-exp1.licdn.com/dms/image/C4D03AQGWh6Cosbsmlg/profile-displayphoto-shrink_200_200/0/1604732861419?e=1658361600&v=beta&t=dgtOJgWot_nok7QvWDMqaArmW5vVn4OIL5P9bQHuvmw', 'https://media-exp1.licdn.com/dms/image/C4D07AQGttAixleFxdQ/group-logo_image-shrink_200x200/0/1642177025016?e=1653660000&v=beta&t=XqLX9SCUehjiZ-xdobjklNncKRyjBY3p0qtu8Ge6mMU', 'https://media-exp1.licdn.com/dms/image/D4D35AQGGEZPO9aU4AA/profile-framedphoto-shrink_200_200/0/1647090086080?e=1653660000&v=beta&t=IBXGWNHoxsyp8u0bl_H4n8Nvt-DtwwA4-NjOzg52ybM', 'https://media-exp1.licdn.com/dms/image/C4E16AQFCjEGLgSbeOA/profile-displaybackgroundimage-shrink_200_800/0/1631095400478?e=1658361600&v=beta&t=TiuoP3t2TEtpy42uV8VnU3HWq5dg6aAtPniGLJpNDT0', 'https://media-exp1.licdn.com/dms/image/C4D16AQHu1UnwbIeC8A/profile-displaybackgroundimage-shrink_200_800/0/1594641133794?e=1658361600&v=beta&t=L9wEtNlJG_571PZ4k3wiEAsbhkKjefXDiJCCsDrYtn0', 'https://media-exp1.licdn.com/dms/image/C4D03AQHh3wZaBGbebw/profile-displayphoto-shrink_200_200/0/1637002297114?e=1658361600&v=beta&t=spNBRBmxXRwH-0LAjS58Ld_x4nVst_d9eZW0xAaSOmU', 'https://media-exp1.licdn.com/dms/image/C4D16AQEkCQkeUf-gsg/profile-displaybackgroundimage-shrink_200_800/0/1647100755708?e=1658361600&v=beta&t=kuTN5eEwMlPfhkVtqjaC6XeTBzhw2uO-dbSLgxhwR8I', 'https://media-exp1.licdn.com/dms/image/C5603AQE4Ck2HUKphkg/profile-displayphoto-shrink_200_200/0/1648301052164?e=1658361600&v=beta&t=iniR-eqYR2Ho_v7DvC2jlrunL3ngkt6qZX9nntJmZYE', 'https://media-exp1.licdn.com/dms/image/C4E03AQE79gkN9nqw4g/profile-displayphoto-shrink_200_200/0/1610998274893?e=1658361600&v=beta&t=LD9CqeK1lMbs2MDQJra8n4fRYXBLupeLuNdkvlER3l0', 'https://media-exp1.licdn.com/dms/image/C4D07AQH7udeTAMFghg/group-heroimage-shrink_640_160/0/1642177025087?e=1653660000&v=beta&t=QD15KT1f3XWmGBO4dBY6zoPbkuE6qj93NcoygCqTfcw', 'https://media-exp1.licdn.com/dms/image/C4D16AQGo8LvrqM3gRQ/profile-displaybackgroundimage-shrink_200_800/0/1582132536879?e=1658361600&v=beta&t=q1hjReuz5zTDstds_U7FDZ4FEzeA9ZP0G5PzO6qXQvE', 'https://media-exp1.licdn.com/dms/image/C4E03AQE_SclUrZgfYQ/profile-displayphoto-shrink_200_200/0/1636748796035?e=1658361600&v=beta&t=umSsKeEqDyxaKQr5dNB7mKy9zJTth-y0dJo7tQ9KOPg', 'https://media-exp1.licdn.com/dms/image/C4E0BAQEgq42aJ2DVAA/company-logo_200_200/0/1631719432950?e=1661385600&v=beta&t=r2P3F1KX2gfqKaqxzG5gO5NtCtl8ynkUXnO-W_nJfZQ', 'https://media-exp1.licdn.com/dms/image/C4E03AQG333gOQVVi8Q/profile-displayphoto-shrink_200_200/0/1587488376529?e=1658361600&v=beta&t=QoKO09Xc2kd1PFnkpjaIuxJgZzUuTb_a3u6JXG3t7RI', 'https://media-exp1.licdn.com/dms/image/C5616AQGm-SG4yTk9Pw/profile-displaybackgroundimage-shrink_200_800/0/1631732454697?e=1658361600&v=beta&t=c8CQhkZdmZcB6GHUiUSnyIyryOIcQFaGuCEoGdc7BWw', 'https://media-exp1.licdn.com/dms/image/D4E1EAQG4-EYb82GeUA/event-background-image-crop_270_480/0/1640550087886?e=1653660000&v=beta&t=qy7VYkXJ03dL_qQ9LyB7FpVrsGDGLQn5inL1FnzlfTg', 'https://media-exp1.licdn.com/dms/image/C4D03AQFzVwu92lnUjA/profile-displayphoto-shrink_100_100/0/1622219038460?e=1658361600&v=beta&t=EDfb9WfZhJwXb3UWpH5zB0z_kQoEOoICJeEzIjRCk4o', 'https://media-exp1.licdn.com/dms/image/C4E16AQFB0FMWqYyTNQ/profile-displaybackgroundimage-shrink_200_800/0/1643391713797?e=1658361600&v=beta&t=nwYgzvLKr2fRd42teUQk5RtISGXgEG7pBweobnCfhhU', 'https://media-exp1.licdn.com/dms/image/C4D07AQFK5LmvZWWTGg/group-logo_image-shrink_200x200/0/1630999696851?e=1653660000&v=beta&t=iUhRLrCyxPk86Bw0kXX5AiLv36jLxleeGErcNLryJkk', 'https://media-exp1.licdn.com/dms/image/C4D07AQFpa3q3JBBuUw/group-logo_image-shrink_200x200/0/1641725275905?e=1653660000&v=beta&t=_rvjhU2Aox-3tG4qm1DYX18MN-ocBaR5ATCNIof8pFM', 'https://media-exp1.licdn.com/dms/image/C5603AQHV6D3nHS02Ig/profile-displayphoto-shrink_200_200/0/1619012887076?e=1658361600&v=beta&t=hkUf5ECQO423pluntov38iTYiMKWCPU7179_FIrrLLU', 'https://media-exp1.licdn.com/dms/image/D4E35AQGYMHtFZGacng/profile-framedphoto-shrink_200_200/0/1649090361820?e=1653660000&v=beta&t=V1EW21ISsLNoQOgvVJDRUMmO3gAooUVn7kRgwmpM_DE', 'https://media-exp1.licdn.com/dms/image/C4D16AQF7ZY8Z9xLYmw/profile-displaybackgroundimage-shrink_200_800/0/1651043303522?e=1658361600&v=beta&t=IKyFGP1z1FrBtjt-IDpMOXl9nmsCfDKaKNp3lodwO_A', 'https://media-exp1.licdn.com/dms/image/C4D16AQH4-c7hsGopYw/profile-displaybackgroundimage-shrink_200_800/0/1634041443002?e=1658361600&v=beta&t=CtGkk1ICfl06iJmo3H4ya_HJ0flyT-1TXch4P37LbU0', 'https://media-exp1.licdn.com/dms/image/C4E03AQFV04fzHwSUTw/profile-displayphoto-shrink_200_200/0/1612820345039?e=1658361600&v=beta&t=cSsojE7cipym5GKSbepPfQvBpYVe9QN3WLaKBBFPUAA', 'https://media-exp1.licdn.com/dms/image/C5607AQHUcEWCbwI8RA/group-logo_image-shrink_200x200/0/1630997017542?e=1653660000&v=beta&t=ACen77k1fLbVJXSzyeypfI2CbEu1kDNDWOgT5KXUUzo', 'https://media-exp1.licdn.com/dms/image/C4E03AQGgCH4F5xK9vQ/profile-displayphoto-shrink_200_200/0/1645118981035?e=1658361600&v=beta&t=w2LFkQpESkQfWnJ1gKNpGIXghOT5K37WcaHLSN9Dy6M', 'https://media-exp1.licdn.com/dms/image/C4E16AQHgxGxVXe6asw/profile-displaybackgroundimage-shrink_200_800/0/1647961389975?e=1658361600&v=beta&t=Ti3SfyGRu-CBGvLFKdQMIr8zpLpjPFIdsULC0psMCY8', 'https://media-exp1.licdn.com/dms/image/C5603AQH2mXz9_rFyhw/profile-displayphoto-shrink_200_200/0/1568381907679?e=1658361600&v=beta&t=YdbvpVWY-60egNZEVm_lQGNcRWIluKcvBPB2QywSwSU', 'https://media-exp1.licdn.com/dms/image/C4D16AQFDTaOI2lkCyw/profile-displaybackgroundimage-shrink_200_800/0/1643224736186?e=1658361600&v=beta&t=oulzu7FNhgvIhxqM2gZXgHQFGLKZwYXXpXWnuE-sxFI', 'https://media-exp1.licdn.com/dms/image/C4E03AQFghAk5o1navA/profile-displayphoto-shrink_200_200/0/1610446140685?e=1658361600&v=beta&t=GKq5Pq3gBL235AzzHgoSpFVpFhgVGvGtIH7K0zFz4r0', 'https://media-exp1.licdn.com/dms/image/C4E0BAQGzB6bAJO07kA/company-logo_200_200/0/1604650456200?e=1661385600&v=beta&t=rhPnpv6hW5rMJ9yj9joEvaeJ4WxVXnFjelx7GPcA0zU', 'https://media-exp1.licdn.com/dms/image/C5603AQH_iypRUNwkow/profile-displayphoto-shrink_200_200/0/1523461783700?e=1658361600&v=beta&t=jouIqOc1nlxr8GECMXuqyq_iYhikNUMNo4x4_wz7Psk', 'https://media-exp1.licdn.com/dms/image/C4E16AQFTolaNxZy7iA/profile-displaybackgroundimage-shrink_200_800/0/1649090148589?e=1658361600&v=beta&t=nUbz1SaxWdo7TdjHakMX6moKQclNP9g1yvhkCWJia_4', 'https://media-exp1.licdn.com/dms/image/C4D03AQGYol6_P1t1vg/profile-displayphoto-shrink_200_200/0/1628530822471?e=1658361600&v=beta&t=RQfrw5AcKNb-WFssaiNM3GPcjfXG4dBXkC-_iuAryoA', 'https://media-exp1.licdn.com/dms/image/C5603AQHPTkZJxN_KMA/profile-displayphoto-shrink_200_200/0/1548664840182?e=1658361600&v=beta&t=es9JZMmvkxN_u0lwXLS4FVDKWkDRO4W7xHV1xpMESCI', 'https://media-exp1.licdn.com/dms/image/D4E1EAQGChdaZO3F2Yw/event-background-image-crop_270_480/0/1650526507244?e=1653660000&v=beta&t=-GQfOldZMPcb436nWF4sIrrICSycY9xljoc3rS1PnfA', 'https://media-exp1.licdn.com/dms/image/C4E0BAQG8Z55xihwvTw/company-logo_200_200/0/1560280656846?e=1661385600&v=beta&t=E_ml1g_YpcODTay0cp3e8aHLw7n-SURSgmCr0AZ3jhw', 'https://media-exp1.licdn.com/dms/image/C5603AQGY7U3MVRwx4w/profile-displayphoto-shrink_200_200/0/1619478112612?e=1658361600&v=beta&t=8hgURAJa5PTzJLZacknr30VFO7kMw1lpOqVYDyKO7h4', 'https://media-exp1.licdn.com/dms/image/C5616AQGhhijxfBnFxg/profile-displaybackgroundimage-shrink_200_800/0/1552414279344?e=1658361600&v=beta&t=sgzpoeg0-IN4kuDcIJHhWZL6LNxnn8sF_0oan4QImqk', 'https://media-exp1.licdn.com/dms/image/C4D1BAQGa2dgL9nwhmw/company-background_200/0/1617639849536?e=1653660000&v=beta&t=TBLbTroiXWarf0Q27yebPWn2XSEEKtcESzMvB0PDMM0', 'https://media-exp1.licdn.com/dms/image/C4D03AQFHKbVFzPnoYQ/profile-displayphoto-shrink_200_200/0/1599310502830?e=1658361600&v=beta&t=njFDG1WivnmkNzA3TQ7KmeAoOxGa6FWILhewvA7kE2A', 'https://media-exp1.licdn.com/dms/image/C4D03AQGADBypVvb1Mg/profile-displayphoto-shrink_200_200/0/1623159546872?e=1658361600&v=beta&t=1JINNQyc-uiqHI21DQInjC32W9hsc0qGGpikbPwv45Y', 'https://media-exp1.licdn.com/dms/image/C4D16AQHWcv4OGm9_eQ/profile-displaybackgroundimage-shrink_200_800/0/1631233174132?e=1658361600&v=beta&t=5J0ATxYwTTZiZkm6dbqj12vppywZ2DZefK5-Y9kS57E', 'https://media-exp1.licdn.com/dms/image/C4E03AQEZ8BhZFZcWDw/profile-displayphoto-shrink_200_200/0/1606586635898?e=1658361600&v=beta&t=g1KdR12jyRGPEy7A-imc5tnyV4h8YtsT8oY6QaLtsCk', 'https://media-exp1.licdn.com/dms/image/D4E35AQErwbHfNuOkYA/profile-framedphoto-shrink_200_200/0/1645908366150?e=1653660000&v=beta&t=MK8nTeT7XLmf9JhqxbnfVyFO6m9RpfSngf6tUkA9lU8', 'https://media-exp1.licdn.com/dms/image/C4D03AQGI_rN8aNAaJw/profile-displayphoto-shrink_200_200/0/1561045822061?e=1658361600&v=beta&t=03aZmg4gQY7mm5KGBewh83tPsCUMi8qZQDh7YvuD_IA', 'https://media-exp1.licdn.com/dms/image/D4D1EAQFtvkS4ZAwjhw/event-background-image-crop_270_480/0/1632762731502?e=1653660000&v=beta&t=DkvXv_-9k10SiiEMx8ihLjLPTqbVt-IHu4Foo7FBGgU', 'https://media-exp1.licdn.com/dms/image/C4E1BAQFdjVygoxyAvw/company-background_200/0/1582728605344?e=1653660000&v=beta&t=8aj9QoV0-aaqFGiAWc6Uh6gi_AcNyUFBN4asrqLSVKQ', 'https://media-exp1.licdn.com/dms/image/C4D16AQHvXN_h24l6NQ/profile-displaybackgroundimage-shrink_200_800/0/1626375194216?e=1658361600&v=beta&t=8zXvxXsIJn44GjNUvZLG5Qhf2DUXEKoXnoUS1Vm-xFE', 'https://media-exp1.licdn.com/dms/image/C5603AQF2Bt1FccqIcQ/profile-displayphoto-shrink_200_200/0/1637024590788?e=1658361600&v=beta&t=88pylodobEEqSXkNLDFcf-5402owooJIfqIFls4VE4w', 'https://media-exp1.licdn.com/dms/image/C4E03AQE090B_vfDKQQ/profile-displayphoto-shrink_200_200/0/1641346227642?e=1658361600&v=beta&t=byUmfFfDYpBPgYn5bfyeqorO-EOdTkcU59x0sUiOonc', 'https://media-exp1.licdn.com/dms/image/C4E16AQETPobgjZO6bw/profile-displaybackgroundimage-shrink_200_800/0/1618818920968?e=1658361600&v=beta&t=Zzz56rSyG3S2oexwdYqcy3LoOkExlK4IDGznntwXZ-0', 'https://media-exp1.licdn.com/dms/image/D4E35AQFb3IvC-CCbhw/profile-framedphoto-shrink_200_200/0/1637978537914?e=1653660000&v=beta&t=g0BPK1gIRJizOipqW9RNtYBvElmaxfeH8QeIFrRYW-U', 'https://media-exp1.licdn.com/dms/image/C4D03AQFBSeAkZam1mA/profile-displayphoto-shrink_200_200/0/1644936231250?e=1658361600&v=beta&t=iARTpgGfmCTvnObWqm0yeqLZw5pf4pyKXMSUc-oASjA', 'https://media-exp1.licdn.com/dms/image/C5616AQFkwWA-h4We5w/profile-displaybackgroundimage-shrink_200_800/0/1641207591892?e=1658361600&v=beta&t=5QzgC2okR-iOExc_P4kpl2o79ue-beROL8yk7R_qJpM', 'https://media-exp1.licdn.com/dms/image/C5603AQH0gAFuYb2Xtw/profile-displayphoto-shrink_200_200/0/1637424661944?e=1658361600&v=beta&t=ewD23-H-oXvA_2tRo3cxjrykNjWJ28VY5vM0HHlQDiw']\n",
      "Local link <------>>>>>> []\n"
     ]
    }
   ],
   "source": [
    "if __name__ == \"__main__\":\n",
    "    driver = initWebdriver()\n",
    "    downloadImageAndLink(driver)\n"
   ]
  },
  {
   "cell_type": "code",
   "execution_count": null,
   "id": "9e11a000",
   "metadata": {},
   "outputs": [],
   "source": []
  }
 ],
 "metadata": {
  "kernelspec": {
   "display_name": "Python 3 (ipykernel)",
   "language": "python",
   "name": "python3"
  },
  "language_info": {
   "codemirror_mode": {
    "name": "ipython",
    "version": 3
   },
   "file_extension": ".py",
   "mimetype": "text/x-python",
   "name": "python",
   "nbconvert_exporter": "python",
   "pygments_lexer": "ipython3",
   "version": "3.9.7"
  }
 },
 "nbformat": 4,
 "nbformat_minor": 5
}
